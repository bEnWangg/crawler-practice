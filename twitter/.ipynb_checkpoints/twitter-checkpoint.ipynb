{
 "cells": [
  {
   "cell_type": "code",
   "execution_count": 1,
   "metadata": {},
   "outputs": [],
   "source": [
    "import tweepy \n",
    "from tweepy import OAuthHandler\n"
   ]
  },
  {
   "cell_type": "code",
   "execution_count": 2,
   "metadata": {},
   "outputs": [],
   "source": [
    "consumer_key = 'qaBGtwLaQEg8Bk4QCHS3Nrl7U'\n",
    "consumer_secret = 'y41mup3LEPi124bsLNLra6QO98jWHvydpif2ZIuFCVZPaUIjll'\n",
    "access_token = '775683813359759362-b5WhehQrYd5FNduoDqVPJgQlcrTFPR4'\n",
    "access_secret = 'e1HfU7FSmw6nZKXWmJBzEE6DK1A9v3D2PFKp5qkMN4Lu2' \n",
    "auth = OAuthHandler(consumer_key, consumer_secret)\n",
    "auth.set_access_token(access_token, access_secret) \n",
    "api = tweepy.API(auth)"
   ]
  },
  {
   "cell_type": "markdown",
   "metadata": {},
   "source": [
    "# 出現首頁的資訊"
   ]
  },
  {
   "cell_type": "code",
   "execution_count": 9,
   "metadata": {},
   "outputs": [
    {
     "name": "stdout",
     "output_type": "stream",
     "text": [
      "20\n",
      "Australian filmmaker denied bail in Cambodia over espionage https://t.co/AWTf1Xgiss https://t.co/IuYQV0RTSV\n",
      "Beckham's fans are cheering, but will they show up on match days? https://t.co/FSROmBKPFr\n",
      "It’s a way for companies to gain access to cutting-edge research and scientific talent\n",
      "https://t.co/0bB2cF54J0\n",
      "The Irish Cabinet gave the go-ahead for a referendum to relax the country's strict abortion laws, 35 years after th… https://t.co/tdv7ALBOgT\n",
      "As Chinese military drills increasingly encroach on Taiwan’s airspace, Taiwan rejects new flights from 2 Chinese ca… https://t.co/ZbddSlxlEk\n",
      "By tracking their exercise routines on an app, U.S. soldiers may have revealed sensitive military locations https://t.co/Qm4cENedLQ\n",
      "Why the world still awaits its first space elevator https://t.co/VPsLdmYgIx\n",
      "Fiat Chrysler, Waymo expand deal for self-driving public ride-hailing service https://t.co/vw7ktSxgXb https://t.co/uZ2o4MY5ZW\n",
      "JUST IN: At least 11 people dead in suicide attack on local Yemeni force backed by UAE in south eastern Yemen- loca… https://t.co/DTmR6xD9mA\n",
      "Anti-U.S. base mayor leads ahead of Okinawa election: survey https://t.co/0lR8hP6dVj\n",
      "Pediatric and mental health experts call on Facebook to kill its new messaging app for kids https://t.co/fYxCKB5oJa\n",
      "What Trump's own party wants to hear from the State of the Union address https://t.co/O2oQEDAwug https://t.co/WP10ZBWmIk\n",
      "How to lose weight without actually eating less https://t.co/QuAvk6elwX\n",
      "'Dossier' firm says U.S. senator's leaks endanger its employees https://t.co/kMIpHt9KuF https://t.co/jdF9JPKkNm\n",
      "India's preference for sons over daughters has led to the birth of as many as 21 million \"unwanted\" girls, new repo… https://t.co/71H18MZjfH\n",
      "Peacock Princess of China: Chinese dancing master Yang Liping performs in her dance drama \"Peacock of Winter\" in Ti… https://t.co/n8eNXVOyjg\n",
      "Unlock unlimited access to the latest in career &amp; business - subscribe to HBR today. https://t.co/qM7J6yHusK https://t.co/g61lF08qt0\n",
      "Qat, a leafy plant, is chewed by 90% of men in Yemen https://t.co/AQ69YQ1VIm\n",
      "How a 20-year-old Australian student discovered some of the US military's secret sites, highlighting a fitness app'… https://t.co/rtmHg68SVE\n",
      "Trump administration holds off on new Russia sanctions, despite law https://t.co/JwgxBQnnqW\n"
     ]
    }
   ],
   "source": [
    "public_tweets = api.home_timeline()\n",
    "print(str(len(public_tweets)))\n",
    "for tweet in public_tweets:\n",
    "    print(tweet.text)"
   ]
  },
  {
   "cell_type": "markdown",
   "metadata": {},
   "source": [
    "# 以下會直接顯示推文"
   ]
  },
  {
   "cell_type": "code",
   "execution_count": 8,
   "metadata": {},
   "outputs": [
    {
     "name": "stdout",
     "output_type": "stream",
     "text": [
      "Blockchain, CRISPR, and machine learning will utterly transform your world in the next decade https://t.co/FPrBo4j5VR\n",
      "really hope i can join the party\n",
      "\n",
      "COINSBANK BLOCKCHAIN PARTY 2016 https://t.co/i9DjfRgxAm 來自 @YouTube\n",
      "Netherlands' I/O Digital to Release Blockchain Upgrade https://t.co/Rg8DZvFpX7 來自 @expathos\n",
      "ConsenSys and XBRL US Team Up to Form Working Group To Develop Blockchain Tokenization Standards https://t.co/iwzq0IxbwM 來自 @expathos\n",
      "ARK Crew Announces Official Open Source Release of ARK Blockchain Code on GitHub https://t.co/mOwyxtFtX4 來自 @expathos\n",
      "IT Firm Fujitsu Sees Commercial Interest in Blockchain Security https://t.co/R3oSZZeBGS via @CoinDesk\n",
      "Travel Industry - Webjet Tests Blockchain for Hotel Bookings https://t.co/aFfbLwSOhc 來自 @expathos\n",
      "Myanmar to Establish Blockchain-based Stock Exchange https://t.co/m2Va86LBu5 來自 @expathos\n",
      "RT @arjenvanberkum: The benefits of #DigitalBusiness process management with #blockchain #technology | https://t.co/GgUVdQZXsR\n",
      "https://t.co/7ZVNfqI4S2 the #Blockchain  X #management\n",
      "Blockchain could help fix IoT security after DDoS attack https://t.co/nBmYF257Es 來自 @VentureBeat\n",
      "RT @simonlporter: How Fintech will Disrupt Banking Industry! https://t.co/P1r92VAQjU\n",
      "RT @LCheytanov: The 5 Charts on Insurance Disruption - Insurance Thought Leadership https://t.co/0Ux5JRG5Ks #insuretech #fintech #Fintech100\n",
      "How about the #blockchain  X #insurance ?\n",
      "anyone have any idea~~https://t.co/JTI8XDpRWN\n",
      "@akahaduwe  you're welcome nice to meet you~\n",
      "https://t.co/mwZHQR7wAM\n",
      "How about the #blockchain X #management \n",
      "think it together~!!!!!!\n",
      "Think the #blockchain  with #organzationmanagement , like agency  problem,block chain talk about trust, promise.\n",
      "I'll pose the issue later~\n",
      "Insurers and reinsurers launch Blockchain initiative B3i | Munich Re https://t.co/yW2L3HXt4r\n",
      "anyone have this book too?\n",
      "\n",
      "please tell me~~i want to find someone discuss together\n",
      "\n",
      "#newbook #thebusinessblockchain https://t.co/idAJ3ldPth\n",
      "Fujitsu Beefs Up Its Blockchain Security Technology https://t.co/sSaHyB7zr1 來自 @blockchainers\n"
     ]
    }
   ],
   "source": [
    "for tweet in public_tweets:\n",
    "    print (tweet.text)"
   ]
  },
  {
   "cell_type": "code",
   "execution_count": 12,
   "metadata": {},
   "outputs": [
    {
     "ename": "AttributeError",
     "evalue": "'str' object has no attribute 'item'",
     "output_type": "error",
     "traceback": [
      "\u001b[0;31m---------------------------------------------------------------------------\u001b[0m",
      "\u001b[0;31mAttributeError\u001b[0m                            Traceback (most recent call last)",
      "\u001b[0;32m<ipython-input-12-66ac37ce89fe>\u001b[0m in \u001b[0;36m<module>\u001b[0;34m()\u001b[0m\n\u001b[1;32m     12\u001b[0m \u001b[0mapi\u001b[0m \u001b[0;34m=\u001b[0m \u001b[0mtweepy\u001b[0m\u001b[0;34m.\u001b[0m\u001b[0mAPI\u001b[0m\u001b[0;34m(\u001b[0m\u001b[0mauth\u001b[0m\u001b[0;34m)\u001b[0m\u001b[0;34m\u001b[0m\u001b[0m\n\u001b[1;32m     13\u001b[0m \u001b[0;34m\u001b[0m\u001b[0m\n\u001b[0;32m---> 14\u001b[0;31m \u001b[0;32mfor\u001b[0m \u001b[0mtweet\u001b[0m \u001b[0;32min\u001b[0m \u001b[0mtweepy\u001b[0m\u001b[0;34m.\u001b[0m\u001b[0mCursor\u001b[0m\u001b[0;34m(\u001b[0m\u001b[0mapi\u001b[0m\u001b[0;34m.\u001b[0m\u001b[0msearch\u001b[0m\u001b[0;34m,\u001b[0m\u001b[0mq\u001b[0m\u001b[0;34m=\u001b[0m\u001b[0;34m'Blockchain'\u001b[0m\u001b[0;34m.\u001b[0m\u001b[0mitem\u001b[0m\u001b[0;34m(\u001b[0m\u001b[0;36m10\u001b[0m\u001b[0;34m)\u001b[0m\u001b[0;34m)\u001b[0m\u001b[0;34m:\u001b[0m\u001b[0;34m\u001b[0m\u001b[0m\n\u001b[0m\u001b[1;32m     15\u001b[0m     \u001b[0mprint\u001b[0m\u001b[0;34m(\u001b[0m\u001b[0;34m\"Tweet by:@\"\u001b[0m\u001b[0;34m+\u001b[0m\u001b[0mtweet\u001b[0m\u001b[0;34m.\u001b[0m\u001b[0muser\u001b[0m\u001b[0;34m.\u001b[0m\u001b[0mscreen_name\u001b[0m\u001b[0;34m)\u001b[0m\u001b[0;34m\u001b[0m\u001b[0m\n",
      "\u001b[0;31mAttributeError\u001b[0m: 'str' object has no attribute 'item'"
     ]
    }
   ],
   "source": [
    "import tweepy \n",
    "\n",
    "consumer_key = 'qaBGtwLaQEg8Bk4QCHS3Nrl7U'\n",
    "consumer_secret = 'y41mup3LEPi124bsLNLra6QO98jWHvydpif2ZIuFCVZPaUIjll'\n",
    "access_token = '775683813359759362-b5WhehQrYd5FNduoDqVPJgQlcrTFPR4'\n",
    "access_secret = 'e1HfU7FSmw6nZKXWmJBzEE6DK1A9v3D2PFKp5qkMN4Lu2' \n",
    "\n",
    "auth = OAuthHandler(consumer_key, consumer_secret)\n",
    "auth.set_access_token(access_token, access_secret) \n",
    "\n",
    "\n",
    "api = tweepy.API(auth)\n",
    "\n",
    "for tweet in tweepy.Cursor(api.search,q='Blockchain'.item(10)):\n",
    "    print(\"Tweet by:@\"+tweet.user.screen_name)"
   ]
  },
  {
   "cell_type": "markdown",
   "metadata": {},
   "source": [
    "# 如果我們要“保持連接”，並收集所有關於特定事件將會出現的tweets，流API就是我們所需要的。我們需要擴展StreamListener()來定義我們處理輸入數據的方式。一個用#python hashtag收集了所有新的tweet的例子："
   ]
  },
  {
   "cell_type": "code",
   "execution_count": null,
   "metadata": {},
   "outputs": [],
   "source": [
    "from tweepy import Stream\n",
    "from tweepy.streaming import StreamListener\n",
    " \n",
    "class MyListener(StreamListener):\n",
    "    def on_data(self,data):\n",
    "        try:\n",
    "            with open('fear.json', 'a') as f:\n",
    "                f.write(data)\n",
    "                return True\n",
    "        except BaseException as e:\n",
    "            print(\"Error on_data: %s\" % str(e))\n",
    "        return True\n",
    " \n",
    "    def on_error(self, status):\n",
    "        print(status)\n",
    "        return True\n",
    " \n",
    "twitter_stream = Stream(auth,MyListener())\n",
    "twitter_stream.filter(track=['#fear'])"
   ]
  },
  {
   "cell_type": "code",
   "execution_count": null,
   "metadata": {},
   "outputs": [],
   "source": [
    "import json\n",
    "\n",
    "with open('fear', 'r') as f:\n",
    "    line = f.readline() # read only the first tweet/line\n",
    "    tweet = json.loads(line) # load it as Python dict\n",
    "    print(json.dumps(tweet, indent=4)) # pretty-print"
   ]
  },
  {
   "cell_type": "code",
   "execution_count": null,
   "metadata": {},
   "outputs": [],
   "source": []
  }
 ],
 "metadata": {
  "kernelspec": {
   "display_name": "Python [conda env:python3.5]",
   "language": "python",
   "name": "conda-env-python3.5-py"
  },
  "language_info": {
   "codemirror_mode": {
    "name": "ipython",
    "version": 3
   },
   "file_extension": ".py",
   "mimetype": "text/x-python",
   "name": "python",
   "nbconvert_exporter": "python",
   "pygments_lexer": "ipython3",
   "version": "3.5.4"
  }
 },
 "nbformat": 4,
 "nbformat_minor": 2
}

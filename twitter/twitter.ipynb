{
 "cells": [
  {
   "cell_type": "code",
   "execution_count": 1,
   "metadata": {},
   "outputs": [],
   "source": [
    "import tweepy \n",
    "from tweepy import OAuthHandler\n"
   ]
  },
  {
   "cell_type": "code",
   "execution_count": 2,
   "metadata": {},
   "outputs": [],
   "source": [
    "consumer_key = 'qaBGtwLaQEg8Bk4QCHS3Nrl7U'\n",
    "consumer_secret = 'y41mup3LEPi124bsLNLra6QO98jWHvydpif2ZIuFCVZPaUIjll'\n",
    "access_token = '775683813359759362-b5WhehQrYd5FNduoDqVPJgQlcrTFPR4'\n",
    "access_secret = 'e1HfU7FSmw6nZKXWmJBzEE6DK1A9v3D2PFKp5qkMN4Lu2' \n",
    "auth = OAuthHandler(consumer_key, consumer_secret)\n",
    "auth.set_access_token(access_token, access_secret) \n",
    "api = tweepy.API(auth)"
   ]
  },
  {
   "cell_type": "markdown",
   "metadata": {},
   "source": [
    "# 出現首頁的資訊"
   ]
  },
  {
   "cell_type": "code",
   "execution_count": 9,
   "metadata": {},
   "outputs": [
    {
     "name": "stdout",
     "output_type": "stream",
     "text": [
      "20\n",
      "Australian filmmaker denied bail in Cambodia over espionage https://t.co/AWTf1Xgiss https://t.co/IuYQV0RTSV\n",
      "Beckham's fans are cheering, but will they show up on match days? https://t.co/FSROmBKPFr\n",
      "It’s a way for companies to gain access to cutting-edge research and scientific talent\n",
      "https://t.co/0bB2cF54J0\n",
      "The Irish Cabinet gave the go-ahead for a referendum to relax the country's strict abortion laws, 35 years after th… https://t.co/tdv7ALBOgT\n",
      "As Chinese military drills increasingly encroach on Taiwan’s airspace, Taiwan rejects new flights from 2 Chinese ca… https://t.co/ZbddSlxlEk\n",
      "By tracking their exercise routines on an app, U.S. soldiers may have revealed sensitive military locations https://t.co/Qm4cENedLQ\n",
      "Why the world still awaits its first space elevator https://t.co/VPsLdmYgIx\n",
      "Fiat Chrysler, Waymo expand deal for self-driving public ride-hailing service https://t.co/vw7ktSxgXb https://t.co/uZ2o4MY5ZW\n",
      "JUST IN: At least 11 people dead in suicide attack on local Yemeni force backed by UAE in south eastern Yemen- loca… https://t.co/DTmR6xD9mA\n",
      "Anti-U.S. base mayor leads ahead of Okinawa election: survey https://t.co/0lR8hP6dVj\n",
      "Pediatric and mental health experts call on Facebook to kill its new messaging app for kids https://t.co/fYxCKB5oJa\n",
      "What Trump's own party wants to hear from the State of the Union address https://t.co/O2oQEDAwug https://t.co/WP10ZBWmIk\n",
      "How to lose weight without actually eating less https://t.co/QuAvk6elwX\n",
      "'Dossier' firm says U.S. senator's leaks endanger its employees https://t.co/kMIpHt9KuF https://t.co/jdF9JPKkNm\n",
      "India's preference for sons over daughters has led to the birth of as many as 21 million \"unwanted\" girls, new repo… https://t.co/71H18MZjfH\n",
      "Peacock Princess of China: Chinese dancing master Yang Liping performs in her dance drama \"Peacock of Winter\" in Ti… https://t.co/n8eNXVOyjg\n",
      "Unlock unlimited access to the latest in career &amp; business - subscribe to HBR today. https://t.co/qM7J6yHusK https://t.co/g61lF08qt0\n",
      "Qat, a leafy plant, is chewed by 90% of men in Yemen https://t.co/AQ69YQ1VIm\n",
      "How a 20-year-old Australian student discovered some of the US military's secret sites, highlighting a fitness app'… https://t.co/rtmHg68SVE\n",
      "Trump administration holds off on new Russia sanctions, despite law https://t.co/JwgxBQnnqW\n"
     ]
    }
   ],
   "source": [
    "public_tweets = api.home_timeline()\n",
    "print(str(len(public_tweets)))\n",
    "for tweet in public_tweets:\n",
    "    print(tweet.text)"
   ]
  },
  {
   "cell_type": "markdown",
   "metadata": {},
   "source": [
    "# 以下會直接顯示推文"
   ]
  },
  {
   "cell_type": "code",
   "execution_count": 8,
   "metadata": {},
   "outputs": [
    {
     "name": "stdout",
     "output_type": "stream",
     "text": [
      "Blockchain, CRISPR, and machine learning will utterly transform your world in the next decade https://t.co/FPrBo4j5VR\n",
      "really hope i can join the party\n",
      "\n",
      "COINSBANK BLOCKCHAIN PARTY 2016 https://t.co/i9DjfRgxAm 來自 @YouTube\n",
      "Netherlands' I/O Digital to Release Blockchain Upgrade https://t.co/Rg8DZvFpX7 來自 @expathos\n",
      "ConsenSys and XBRL US Team Up to Form Working Group To Develop Blockchain Tokenization Standards https://t.co/iwzq0IxbwM 來自 @expathos\n",
      "ARK Crew Announces Official Open Source Release of ARK Blockchain Code on GitHub https://t.co/mOwyxtFtX4 來自 @expathos\n",
      "IT Firm Fujitsu Sees Commercial Interest in Blockchain Security https://t.co/R3oSZZeBGS via @CoinDesk\n",
      "Travel Industry - Webjet Tests Blockchain for Hotel Bookings https://t.co/aFfbLwSOhc 來自 @expathos\n",
      "Myanmar to Establish Blockchain-based Stock Exchange https://t.co/m2Va86LBu5 來自 @expathos\n",
      "RT @arjenvanberkum: The benefits of #DigitalBusiness process management with #blockchain #technology | https://t.co/GgUVdQZXsR\n",
      "https://t.co/7ZVNfqI4S2 the #Blockchain  X #management\n",
      "Blockchain could help fix IoT security after DDoS attack https://t.co/nBmYF257Es 來自 @VentureBeat\n",
      "RT @simonlporter: How Fintech will Disrupt Banking Industry! https://t.co/P1r92VAQjU\n",
      "RT @LCheytanov: The 5 Charts on Insurance Disruption - Insurance Thought Leadership https://t.co/0Ux5JRG5Ks #insuretech #fintech #Fintech100\n",
      "How about the #blockchain  X #insurance ?\n",
      "anyone have any idea~~https://t.co/JTI8XDpRWN\n",
      "@akahaduwe  you're welcome nice to meet you~\n",
      "https://t.co/mwZHQR7wAM\n",
      "How about the #blockchain X #management \n",
      "think it together~!!!!!!\n",
      "Think the #blockchain  with #organzationmanagement , like agency  problem,block chain talk about trust, promise.\n",
      "I'll pose the issue later~\n",
      "Insurers and reinsurers launch Blockchain initiative B3i | Munich Re https://t.co/yW2L3HXt4r\n",
      "anyone have this book too?\n",
      "\n",
      "please tell me~~i want to find someone discuss together\n",
      "\n",
      "#newbook #thebusinessblockchain https://t.co/idAJ3ldPth\n",
      "Fujitsu Beefs Up Its Blockchain Security Technology https://t.co/sSaHyB7zr1 來自 @blockchainers\n"
     ]
    }
   ],
   "source": [
    "for tweet in public_tweets:\n",
    "    print (tweet.text)"
   ]
  },
  {
   "cell_type": "code",
   "execution_count": 31,
   "metadata": {},
   "outputs": [
    {
     "name": "stdout",
     "output_type": "stream",
     "text": [
      "{\n",
      " \"coordinates\": null,\n",
      " \"quote_count\": 0,\n",
      " \"entities\": {\n",
      "  \"symbols\": [],\n",
      "  \"hashtags\": [],\n",
      "  \"user_mentions\": [],\n",
      "  \"urls\": [\n",
      "   {\n",
      "    \"indices\": [\n",
      "     61,\n",
      "     84\n",
      "    ],\n",
      "    \"expanded_url\": \"http://www.wired.com/story/proposal-for-federal-wireless-network-shows-fear-of-china\",\n",
      "    \"display_url\": \"wired.com/story/proposal\\u2026\",\n",
      "    \"url\": \"https://t.co/BB9jIy62s5\"\n",
      "   }\n",
      "  ]\n",
      " },\n",
      " \"possibly_sensitive\": false,\n",
      " \"lang\": \"en\",\n",
      " \"contributors\": null,\n",
      " \"in_reply_to_status_id\": null,\n",
      " \"favorite_count\": 0,\n",
      " \"in_reply_to_screen_name\": null,\n",
      " \"reply_count\": 0,\n",
      " \"truncated\": false,\n",
      " \"is_quote_status\": false,\n",
      " \"id\": 958250058973110272,\n",
      " \"id_str\": \"958250058973110272\",\n",
      " \"in_reply_to_status_id_str\": null,\n",
      " \"filter_level\": \"low\",\n",
      " \"geo\": null,\n",
      " \"timestamp_ms\": \"1517299592141\",\n",
      " \"user\": {\n",
      "  \"default_profile\": false,\n",
      "  \"location\": \"New York, NY\",\n",
      "  \"verified\": false,\n",
      "  \"profile_background_image_url\": \"http://pbs.twimg.com/profile_background_images/626194833741381634/EsUss61s.jpg\",\n",
      "  \"profile_sidebar_border_color\": \"000000\",\n",
      "  \"statuses_count\": 6234,\n",
      "  \"utc_offset\": -18000,\n",
      "  \"follow_request_sent\": null,\n",
      "  \"lang\": \"en\",\n",
      "  \"profile_background_color\": \"131516\",\n",
      "  \"followers_count\": 25,\n",
      "  \"profile_link_color\": \"DD2E44\",\n",
      "  \"protected\": false,\n",
      "  \"following\": null,\n",
      "  \"listed_count\": 3,\n",
      "  \"translator_type\": \"none\",\n",
      "  \"time_zone\": \"Eastern Time (US & Canada)\",\n",
      "  \"contributors_enabled\": false,\n",
      "  \"url\": \"http://www.willoughbyavenue.com\",\n",
      "  \"profile_image_url\": \"http://pbs.twimg.com/profile_images/626212962089340928/cwSpTTvF_normal.png\",\n",
      "  \"id_str\": \"3392898183\",\n",
      "  \"id\": 3392898183,\n",
      "  \"screen_name\": \"Willoughby_Ave\",\n",
      "  \"favourites_count\": 2,\n",
      "  \"default_profile_image\": false,\n",
      "  \"profile_banner_url\": \"https://pbs.twimg.com/profile_banners/3392898183/1438136195\",\n",
      "  \"profile_use_background_image\": true,\n",
      "  \"profile_image_url_https\": \"https://pbs.twimg.com/profile_images/626212962089340928/cwSpTTvF_normal.png\",\n",
      "  \"description\": \"We build compelling brands with pro bono collaborative branding solutions, yielding significant value to growing communities nationally.\",\n",
      "  \"profile_background_tile\": true,\n",
      "  \"is_translator\": false,\n",
      "  \"friends_count\": 96,\n",
      "  \"name\": \"Willoughby Avenue\",\n",
      "  \"profile_text_color\": \"000000\",\n",
      "  \"notifications\": null,\n",
      "  \"created_at\": \"Wed Jul 29 00:20:29 +0000 2015\",\n",
      "  \"profile_background_image_url_https\": \"https://pbs.twimg.com/profile_background_images/626194833741381634/EsUss61s.jpg\",\n",
      "  \"geo_enabled\": false,\n",
      "  \"profile_sidebar_fill_color\": \"000000\"\n",
      " },\n",
      " \"text\": \"Proposal for Government Wireless Network Shows Fear of China https://t.co/BB9jIy62s5\",\n",
      " \"retweeted\": false,\n",
      " \"favorited\": false,\n",
      " \"in_reply_to_user_id_str\": null,\n",
      " \"source\": \"<a href=\\\"http://publicize.wp.com/\\\" rel=\\\"nofollow\\\">WordPress.com</a>\",\n",
      " \"created_at\": \"Tue Jan 30 08:06:32 +0000 2018\",\n",
      " \"retweet_count\": 0,\n",
      " \"place\": null,\n",
      " \"in_reply_to_user_id\": null\n",
      "}\n"
     ]
    }
   ],
   "source": [
    "import json\n",
    "\n",
    "with open('fear/test_fear.json', 'r') as f1:\n",
    "    line = f1.readline() # read only the first tweet/line\n",
    "    tweet = json.loads(line) # load it as Python dict\n",
    "    print(json.dumps(tweet, indent=1)) # pretty-print"
   ]
  },
  {
   "cell_type": "code",
   "execution_count": 35,
   "metadata": {},
   "outputs": [
    {
     "name": "stdout",
     "output_type": "stream",
     "text": [
      "[nltk_data] Downloading package punkt to /Users/benwang/nltk_data...\n",
      "[nltk_data]   Unzipping tokenizers/punkt.zip.\n"
     ]
    },
    {
     "data": {
      "text/plain": [
       "True"
      ]
     },
     "execution_count": 35,
     "metadata": {},
     "output_type": "execute_result"
    }
   ],
   "source": [
    "import nltk\n",
    "nltk.download('punkt')"
   ]
  },
  {
   "cell_type": "markdown",
   "metadata": {},
   "source": [
    "# 拆解文句\n",
    "\n",
    "拆解出['RT', '@', 'marcobonzanini', ':', 'just', 'an', 'example', '!', ':', 'D', 'http', ':', '//example.com', '#', 'NLP']"
   ]
  },
  {
   "cell_type": "code",
   "execution_count": 36,
   "metadata": {},
   "outputs": [
    {
     "name": "stdout",
     "output_type": "stream",
     "text": [
      "['RT', '@', 'marcobonzanini', ':', 'just', 'an', 'example', '!', ':', 'D', 'http', ':', '//example.com', '#', 'NLP']\n"
     ]
    }
   ],
   "source": [
    "from nltk.tokenize import word_tokenize\n",
    " \n",
    "tweet = 'RT @marcobonzanini: just an example! :D http://example.com #NLP'\n",
    "print(word_tokenize(tweet))\n",
    "# ['RT', '@', 'marcobonzanini', ':', 'just', 'an', 'example', '!', ':', 'D', 'http', ':', '//example.com', '#', 'NLP']\n"
   ]
  },
  {
   "cell_type": "code",
   "execution_count": 38,
   "metadata": {},
   "outputs": [
    {
     "name": "stdout",
     "output_type": "stream",
     "text": [
      "['RT', '@marcobonzanini', ':', 'just', 'an', 'example', '!', ':D', 'http://example.com', '#NLP']\n"
     ]
    }
   ],
   "source": [
    "import re\n",
    " \n",
    "emoticons_str = r\"\"\"\n",
    "    (?:\n",
    "        [:=;] # Eyes\n",
    "        [oO\\-]? # Nose (optional)\n",
    "        [D\\)\\]\\(\\]/\\\\OpP] # Mouth\n",
    "    )\"\"\"\n",
    " \n",
    "regex_str = [\n",
    "    emoticons_str,\n",
    "    r'<[^>]+>', # HTML tags\n",
    "    r'(?:@[\\w_]+)', # @-mentions\n",
    "    r\"(?:\\#+[\\w_]+[\\w\\'_\\-]*[\\w_]+)\", # hash-tags\n",
    "    r'http[s]?://(?:[a-z]|[0-9]|[$-_@.&amp;+]|[!*\\(\\),]|(?:%[0-9a-f][0-9a-f]))+', # URLs\n",
    " \n",
    "    r'(?:(?:\\d+,?)+(?:\\.?\\d+)?)', # numbers\n",
    "    r\"(?:[a-z][a-z'\\-_]+[a-z])\", # words with - and '\n",
    "    r'(?:[\\w_]+)', # other words\n",
    "    r'(?:\\S)' # anything else\n",
    "]\n",
    "    \n",
    "tokens_re = re.compile(r'('+'|'.join(regex_str)+')', re.VERBOSE | re.IGNORECASE)\n",
    "emoticon_re = re.compile(r'^'+emoticons_str+'$', re.VERBOSE | re.IGNORECASE)\n",
    " \n",
    "def tokenize(s):\n",
    "    return tokens_re.findall(s)\n",
    " \n",
    "def preprocess(s, lowercase=False):\n",
    "    tokens = tokenize(s)\n",
    "    if lowercase:\n",
    "        tokens = [token if emoticon_re.search(token) else token.lower() for token in tokens]\n",
    "    return tokens\n",
    " \n",
    "tweet = 'RT @marcobonzanini: just an example! :D http://example.com #NLP'\n",
    "print(preprocess(tweet))\n",
    "# ['RT', '@marcobonzanini', ':', 'just', 'an', 'example', '!', ':D', 'http://example.com', '#NLP']"
   ]
  },
  {
   "cell_type": "code",
   "execution_count": 56,
   "metadata": {},
   "outputs": [
    {
     "name": "stdout",
     "output_type": "stream",
     "text": [
      "[(',', 56), ('…', 52), (':', 47), ('RT', 38), ('’', 34), ('to', 34), ('it', 32), ('Fear', 32), ('.', 32), ('s', 27), ('the', 25), ('#fear', 24), ('of', 20), ('I', 20), ('in', 19), ('‘', 19), ('is', 19), ('#MahatmaGandhi', 16), ('@MeghnaFoodMagic', 16), ('may', 15)]\n"
     ]
    }
   ],
   "source": [
    "import operator \n",
    "import json\n",
    "from collections import Counter\n",
    " \n",
    "fname = 'fear/fear.json'\n",
    "with open(fname, 'r') as f:\n",
    "    count_all = Counter()\n",
    "    for line in f:\n",
    "        tweet = json.loads(line)\n",
    "        # Create a list with all the terms\n",
    "        terms_all = [term for term in preprocess(tweet['text'])]\n",
    "        # Update the counter\n",
    "        count_all.update(terms_all)\n",
    "    # Print the first 5 most frequent words\n",
    "    print(count_all.most_common(20))"
   ]
  },
  {
   "cell_type": "code",
   "execution_count": 59,
   "metadata": {},
   "outputs": [
    {
     "name": "stdout",
     "output_type": "stream",
     "text": [
      "[('.', 253), (':', 243), ('RT', 207), ('…', 203), ('the', 193), (',', 165), ('fear', 156), ('to', 140), ('of', 116), ('and', 101), ('I', 93), ('you', 74), ('is', 74), ('be', 71), ('that', 68), ('in', 63), ('a', 63), ('’', 56), ('!', 45), ('Fear', 42)]\n"
     ]
    }
   ],
   "source": [
    "import operator \n",
    "import json\n",
    "from collections import Counter\n",
    " \n",
    "fname = 'fear/test_fear.json'\n",
    "with open(fname, 'r') as f:\n",
    "    count_all = Counter()\n",
    "    for line in f:\n",
    "        tweet = json.loads(line)\n",
    "        # Create a list with all the terms\n",
    "        terms_all = [term for term in preprocess(tweet['text'])]\n",
    "        # Update the counter\n",
    "        count_all.update(terms_all)\n",
    "    # Print the first 5 most frequent words\n",
    "    print(count_all.most_common(20))"
   ]
  },
  {
   "cell_type": "code",
   "execution_count": 43,
   "metadata": {},
   "outputs": [
    {
     "name": "stdout",
     "output_type": "stream",
     "text": [
      "[nltk_data] Downloading package stopwords to\n",
      "[nltk_data]     /Users/benwang/nltk_data...\n",
      "[nltk_data]   Unzipping corpora/stopwords.zip.\n"
     ]
    },
    {
     "data": {
      "text/plain": [
       "True"
      ]
     },
     "execution_count": 43,
     "metadata": {},
     "output_type": "execute_result"
    }
   ],
   "source": [
    "import nltk\n",
    "nltk.download('stopwords')"
   ]
  },
  {
   "cell_type": "code",
   "execution_count": 49,
   "metadata": {},
   "outputs": [],
   "source": [
    "from nltk.corpus import stopwords\n",
    "import string\n",
    " \n",
    "punctuation = list(string.punctuation)\n",
    "stop = stopwords.words('english') + punctuation + ['rt', 'via']"
   ]
  },
  {
   "cell_type": "code",
   "execution_count": 58,
   "metadata": {},
   "outputs": [
    {
     "name": "stdout",
     "output_type": "stream",
     "text": [
      "[('you', 65), ('https://t.co/JtdnCaPNQ9', 65), ('Your', 65), ('.', 65), ('#lifecoach', 65), ('make', 65), ('https://t.co/LblvFsJ6n2', 65), ('can', 65), ('more', 65), ('#fear', 65), ('of', 65), ('the', 65), ('#anxiety', 65), ('fearful', 65), ('situation', 65)]\n"
     ]
    }
   ],
   "source": [
    "import json\n",
    "from collections import Counter\n",
    " \n",
    "fname = 'fear/fear.json'\n",
    "with open(fname, 'r') as f:\n",
    "    count_all = Counter()\n",
    "    for line in f:\n",
    "        tweet = json.loads(line)\n",
    "        # Create a list with all the terms\n",
    "        terms_stop = [term for term in preprocess(tweet['text']) if term not in stop]\n",
    "        # Update the counter\n",
    "        count_all.update(terms_all)\n",
    "    # Print the first 5 most frequent words\n",
    "    print(count_all.most_common(40))"
   ]
  },
  {
   "cell_type": "code",
   "execution_count": 68,
   "metadata": {},
   "outputs": [
    {
     "name": "stdout",
     "output_type": "stream",
     "text": [
      "[]\n"
     ]
    }
   ],
   "source": [
    "import json\n",
    "from collections import Counter\n",
    " \n",
    "fname = 'fear/fear.json'\n",
    "with open(fname, 'r') as f:\n",
    "    count_all = Counter()\n",
    "    for line in f:\n",
    "        tweet = json.loads(line)\n",
    "        terms_single = set(terms_all)\n",
    "        terms_hash = [term for term in preprocess(tweet['text']) \n",
    "              if term.startswith('#')]\n",
    "        # Create a list with all the terms\n",
    "        terms_only = [term for term in preprocess(tweet['text'])\n",
    "                      if term not in stop and\n",
    "                      not term.startswith(('#', '@'))]\n",
    "        # Update the counter\n",
    "    # Print the first 5 most frequent words\n",
    "    print(count_all.most_common(4))"
   ]
  },
  {
   "cell_type": "code",
   "execution_count": null,
   "metadata": {},
   "outputs": [],
   "source": []
  }
 ],
 "metadata": {
  "kernelspec": {
   "display_name": "Python [conda env:python3.5]",
   "language": "python",
   "name": "conda-env-python3.5-py"
  },
  "language_info": {
   "codemirror_mode": {
    "name": "ipython",
    "version": 3
   },
   "file_extension": ".py",
   "mimetype": "text/x-python",
   "name": "python",
   "nbconvert_exporter": "python",
   "pygments_lexer": "ipython3",
   "version": "3.5.4"
  }
 },
 "nbformat": 4,
 "nbformat_minor": 2
}

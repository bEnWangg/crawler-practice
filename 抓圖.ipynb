{
 "cells": [
  {
   "cell_type": "code",
   "execution_count": 1,
   "metadata": {},
   "outputs": [
    {
     "ename": "IndentationError",
     "evalue": "unexpected indent (<ipython-input-1-2df0061b0cfd>, line 5)",
     "output_type": "error",
     "traceback": [
      "\u001b[0;36m  File \u001b[0;32m\"<ipython-input-1-2df0061b0cfd>\"\u001b[0;36m, line \u001b[0;32m5\u001b[0m\n\u001b[0;31m    google_crawler = GoogleImageCrawler(parser_threads=2, downloader_threads=4,\u001b[0m\n\u001b[0m    ^\u001b[0m\n\u001b[0;31mIndentationError\u001b[0m\u001b[0;31m:\u001b[0m unexpected indent\n"
     ]
    }
   ],
   "source": [
    "from icrawler.builtin import GoogleImageCrawler\n",
    "import argparse\n",
    "\n",
    "if __name__ == '__main__':\n",
    "\tparser = argparse.ArgumentParser()\n",
    "\tparser.add_argument(\"--keyword\", type=str, help=\"search keyword\")\n",
    "\tparser.add_argument(\"--dir\", type=str, help=\"dir\")\n",
    "\targs = parser.parse_args()\n",
    "\n",
    "\tif args.keyword:\n",
    "\t\tkeyword = args.keyword\n",
    "\tif args.dir:\n",
    "\t\tdir_ = args.dir\n",
    "\n",
    "\tgoogle_crawler = GoogleImageCrawler(parser_threads=2, downloader_threads=4,\n",
    "\t                                    storage={'root_dir': dir_ })\n",
    "\tgoogle_crawler.crawl(keyword=keyword, max_num=1000,\n",
    "\t                     date_min=None, date_max=None,\n",
    "\t                     min_size=(300,300), max_size=None)\n",
    "\n"
   ]
  },
  {
   "cell_type": "code",
   "execution_count": null,
   "metadata": {
    "collapsed": true
   },
   "outputs": [],
   "source": []
  }
 ],
 "metadata": {
  "kernelspec": {
   "display_name": "Python 3",
   "language": "python",
   "name": "python3"
  },
  "language_info": {
   "codemirror_mode": {
    "name": "ipython",
    "version": 3
   },
   "file_extension": ".py",
   "mimetype": "text/x-python",
   "name": "python",
   "nbconvert_exporter": "python",
   "pygments_lexer": "ipython3",
   "version": "3.6.2"
  }
 },
 "nbformat": 4,
 "nbformat_minor": 2
}

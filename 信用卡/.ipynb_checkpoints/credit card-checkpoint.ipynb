{
 "cells": [
  {
   "cell_type": "code",
   "execution_count": 107,
   "metadata": {},
   "outputs": [],
   "source": [
    "import requests  ##导入requests\n",
    "from bs4 import BeautifulSoup  ##导入bs4中的BeautifulSoup\n",
    "import os \n",
    "import numpy as np\n",
    "from PIL import Image\n",
    "from io import StringIO"
   ]
  },
  {
   "cell_type": "code",
   "execution_count": 102,
   "metadata": {
    "scrolled": true
   },
   "outputs": [],
   "source": [
    "headers = {'User-Agent':\"Mozilla/5.0 (Windows NT 6.1; WOW64) AppleWebKit/537.1 (KHTML, like Gecko) Chrome/22.0.1207.1 Safari/537.1\"}##浏览器请求头（大部分网站没有这个请求头会报错、请务必加上哦）\n",
    "all_url = 'http://credit-card-generator.2-ee.com/i/out/temp-661.jpg'  ##开始的URL地址\n",
    "start_html = requests.get(all_url, headers=headers)  ##使用Requests中的get方法来获取all_url（就是：http://www.mzitu.com/all 这个地址）的内容，headers为上面设置的请求头，务必参考Requests官方文档解释\n",
    "Soup = BeautifulSoup(start_html.text, 'html.parser')\n"
   ]
  },
  {
   "cell_type": "code",
   "execution_count": null,
   "metadata": {
    "scrolled": true
   },
   "outputs": [
    {
     "name": "stdout",
     "output_type": "stream",
     "text": [
      "http://credit-card-generator.2-ee.com/i/out/temp-1.jpg\n",
      "http://credit-card-generator.2-ee.com/i/out/temp-2.jpg\n",
      "http://credit-card-generator.2-ee.com/i/out/temp-3.jpg\n"
     ]
    }
   ],
   "source": [
    "for i in range(10):\n",
    "    url = str(\"http://credit-card-generator.2-ee.com/i/out/temp-\"+str(i+1)+\".jpg\")\n",
    "    print(url)\n",
    "    img = requests.get(url)\n",
    "    with open(\"credit card\" +str(i+1)+\".jpg\", 'ab') as f:\n",
    "        f.write(img.content)\n",
    "        f.close()"
   ]
  },
  {
   "cell_type": "code",
   "execution_count": 110,
   "metadata": {},
   "outputs": [],
   "source": [
    "r = requests.get('http://credit-card-generator.2-ee.com/i/out/temp-1.jpg')"
   ]
  },
  {
   "cell_type": "code",
   "execution_count": 126,
   "metadata": {},
   "outputs": [],
   "source": [
    "img = requests.get('http://credit-card-generator.2-ee.com/i/out/temp-1.jpg')\n",
    "\n",
    "with open('.jpg', 'ab') as f:\n",
    "    f.write(img.content)\n",
    "    f.close()\n",
    "    "
   ]
  },
  {
   "cell_type": "code",
   "execution_count": null,
   "metadata": {},
   "outputs": [],
   "source": []
  }
 ],
 "metadata": {
  "kernelspec": {
   "display_name": "Python [conda env:python3.5]",
   "language": "python",
   "name": "conda-env-python3.5-py"
  },
  "language_info": {
   "codemirror_mode": {
    "name": "ipython",
    "version": 3
   },
   "file_extension": ".py",
   "mimetype": "text/x-python",
   "name": "python",
   "nbconvert_exporter": "python",
   "pygments_lexer": "ipython3",
   "version": "3.5.4"
  }
 },
 "nbformat": 4,
 "nbformat_minor": 2
}
